{
  "nbformat": 4,
  "nbformat_minor": 0,
  "metadata": {
    "colab": {
      "name": "bike_share_demand.ipynb",
      "provenance": [],
      "authorship_tag": "ABX9TyOuv5RxBXlcCQ6Qq203+yhO",
      "include_colab_link": true
    },
    "kernelspec": {
      "name": "python3",
      "display_name": "Python 3"
    }
  },
  "cells": [
    {
      "cell_type": "markdown",
      "metadata": {
        "id": "view-in-github",
        "colab_type": "text"
      },
      "source": [
        "<a href=\"https://colab.research.google.com/github/yasmina-daoudi/Kaggle_Bike_Share/blob/master/bike_share_demand.ipynb\" target=\"_parent\"><img src=\"https://colab.research.google.com/assets/colab-badge.svg\" alt=\"Open In Colab\"/></a>"
      ]
    },
    {
      "cell_type": "code",
      "metadata": {
        "id": "ILwiJk1YVp-O",
        "colab_type": "code",
        "cellView": "form",
        "colab": {
          "base_uri": "https://localhost:8080/",
          "height": 54
        },
        "outputId": "b1a3f7b7-19ab-4eb2-b2d2-e3d8a7dadd2d"
      },
      "source": [
        "#@title **I. 0. Import libraries**\n",
        "import pandas as pd\n",
        "import numpy as np\n",
        "from datetime import datetime\n",
        "from sklearn.linear_model import LinearRegression\n",
        "from sklearn.linear_model import Ridge\n",
        "from sklearn.linear_model import Lasso\n",
        "from sklearn.linear_model import ElasticNet\n",
        "from sklearn.linear_model import Lars\n",
        "from sklearn.linear_model import LassoLars\n",
        "from sklearn.linear_model import OrthogonalMatchingPursuit\n",
        "from sklearn.linear_model import BayesianRidge\n",
        "from sklearn.linear_model import ARDRegression\n",
        "from sklearn.linear_model import PassiveAggressiveRegressor\n",
        "from sklearn.linear_model import RANSACRegressor\n",
        "from sklearn.linear_model import TheilSenRegressor\n",
        "from sklearn.linear_model import HuberRegressor\n",
        "from sklearn.kernel_ridge import KernelRidge\n",
        "from sklearn.svm import SVR\n",
        "from sklearn.neighbors import KNeighborsRegressor\n",
        "from sklearn.tree import DecisionTreeRegressor\n",
        "from sklearn.ensemble import RandomForestRegressor\n",
        "from sklearn.ensemble import ExtraTreesRegressor\n",
        "from sklearn.ensemble import AdaBoostRegressor\n",
        "from sklearn.ensemble import GradientBoostingRegressor\n",
        "from sklearn.neural_network import MLPRegressor\n",
        "from xgboost import XGBRegressor\n",
        "#from catboost import CatBoostRegressor\n",
        "from sklearn.neighbors import KNeighborsRegressor\n",
        "from sklearn.ensemble import RandomForestRegressor, GradientBoostingRegressor\n",
        "from sklearn.model_selection import train_test_split\n",
        "from sklearn.metrics import mean_squared_error\n",
        "from sklearn.model_selection import KFold\n",
        "from sklearn import preprocessing\n",
        "import matplotlib.pyplot as plt\n",
        "import numpy as np\n",
        "from math import sqrt\n",
        "import pandas as pd\n",
        "import seaborn as sns\n",
        "pd.set_option('display.max_rows', 500)\n",
        "pd.set_option('display.max_columns', 500)\n",
        "pd.set_option('display.width', 1000)\n"
      ],
      "execution_count": null,
      "outputs": [
        {
          "output_type": "stream",
          "text": [
            "/usr/local/lib/python3.6/dist-packages/statsmodels/tools/_testing.py:19: FutureWarning: pandas.util.testing is deprecated. Use the functions in the public API at pandas.testing instead.\n",
            "  import pandas.util.testing as tm\n"
          ],
          "name": "stderr"
        }
      ]
    },
    {
      "cell_type": "code",
      "metadata": {
        "id": "GCBGod69WRa5",
        "colab_type": "code",
        "cellView": "form",
        "colab": {
          "base_uri": "https://localhost:8080/",
          "height": 72
        },
        "outputId": "2c88207d-4039-4043-8b80-8e2b587c990a"
      },
      "source": [
        "#@title **I. 1. Import data**\n",
        "BASE_PATH = \"/content/drive/My Drive/bike_share\" #@param\n",
        "#@markdown Name of imported variables:\n",
        "#@markdown - train (pd.DataFrame) : The table of train data\n",
        "#@markdown - test (pd.DataFrame) : The table of test data\n",
        "from google.colab import drive\n",
        "drive.mount('/content/drive')\n",
        "train = pd.read_csv(f\"{BASE_PATH}/train.csv\")\n",
        "test = pd.read_csv(f\"{BASE_PATH}/test.csv\")\n",
        "print(\n",
        "    f\"Shape of train data {train.shape} \\n\"\n",
        "    f\"Shape of test data {test.shape}\"\n",
        ")"
      ],
      "execution_count": null,
      "outputs": [
        {
          "output_type": "stream",
          "text": [
            "Drive already mounted at /content/drive; to attempt to forcibly remount, call drive.mount(\"/content/drive\", force_remount=True).\n",
            "Shape of train data (10886, 12) \n",
            "Shape of test data (6493, 9)\n"
          ],
          "name": "stdout"
        }
      ]
    },
    {
      "cell_type": "code",
      "metadata": {
        "id": "Mf9F1lrlvCyL",
        "colab_type": "code",
        "colab": {}
      },
      "source": [
        "# train.describe()"
      ],
      "execution_count": null,
      "outputs": []
    },
    {
      "cell_type": "code",
      "metadata": {
        "id": "OU_emPsqvVlX",
        "colab_type": "code",
        "colab": {}
      },
      "source": [
        "# train.head()\n",
        "# add week ends \n",
        "# season and weather get dummies\n",
        "# no data missing\n",
        "# train.loc[train['humidity']==0]\n",
        "# extract day and time \n",
        "# features to add : day or night/ windy or not / hot or not / perfect conditions "
      ],
      "execution_count": null,
      "outputs": []
    },
    {
      "cell_type": "code",
      "metadata": {
        "id": "ENdmfsmiWurj",
        "colab_type": "code",
        "cellView": "both",
        "colab": {}
      },
      "source": [
        "#@title **Preprocessing Functions**\n",
        "#@markdown Here you can create your preprocssing functions\n",
        "\n",
        "def clean_column_names(data):\n",
        "  columns = data.columns\n",
        "  data.columns = [\n",
        "                        (\"_\".join(\n",
        "      col.encode(\"ascii\", errors=\"ignore\")\n",
        "      .decode()\n",
        "      .split(\" \"))\n",
        "      .replace(\",\",\"\")\n",
        "      .replace(\"(\",\"\")\n",
        "      .replace(\")\",\"\")\n",
        "      .replace(\"%\",\"\")\n",
        "  ) for col in data.columns\n",
        "  ]\n",
        "  return data\n",
        "\n",
        "def weekend(df):\n",
        "  df.loc[(df['holiday']==0)&(df['workingday']==0),'weekend']=1\n",
        "  df['weekend'] = df['weekend'].fillna(0)\n",
        "  return(df)\n",
        "\n",
        "def split_datetime(df):\n",
        "  df['datetime'] = df['datetime'].apply(lambda x : datetime.strptime(x,\"%Y-%m-%d %H:%M:%S\"))\n",
        "  # df['date'] = df['datetime'].apply(lambda x : x.date())\n",
        "  df['weekday'] = df['datetime'].apply(lambda x : x.weekday()) \n",
        "  df['hour'] = df['datetime'].apply(lambda x : x.time().hour)\n",
        "  return(df)\n",
        "\n",
        "\n",
        "def season_weather_day(df):\n",
        "  df['season'] = df.season.replace([1, 2, 3,4],['spring', 'summer', 'fall', 'winter'])\n",
        "  df = df.join(pd.get_dummies(df.season))\n",
        "  df['weather'] = df.weather.replace([1, 2, 3,4],['clear', 'cloud', 'rain', 'snow'])\n",
        "  df = df.join(pd.get_dummies(df.weather))\n",
        "  df['weekday'] = df.weekday.replace([0,1, 2, 3,4,5,6],['monday','tuesday','wednesday','thursday','friday','saturday','sunday'])\n",
        "  df = df.join(pd.get_dummies(df.weekday))\n",
        "  return(df)\n",
        "\n",
        "\n",
        "def good_weather(df):\n",
        "  atemp_min, atemp_max, humid_min, humid_max = df.atemp.min(), df.atemp.max(), df.humidity.min(), df.humidity.max()\n",
        "  df['temp_rescaled'] = df['atemp'].apply(lambda x : 10*(2*(x-atemp_min)/(atemp_max-atemp_min)-1))\n",
        "  df['humid_rescaled'] = df['humidity'].apply(lambda x : -2*(2*(x-humid_min)/(humid_max-humid_min)-1))\n",
        "  df['weather_grade'] = df['temp_rescaled']+ df['humid_rescaled']\n",
        "  return(df)\n",
        "\n",
        "\n",
        "def good_day(df):\n",
        "  df['good_day'] = df['holiday']+df['weekend']+df['spring']+df['summer']-df['winter']-df['fall']\n",
        "  return(df)\n",
        "\n",
        "\n",
        "def drop_col(df):\n",
        "  df = df.drop(['datetime','weekday','season','weather','season'], axis = 1)\n",
        "  # 'temp_rescaled','humid_rescaled']\n",
        "  return(df)"
      ],
      "execution_count": null,
      "outputs": []
    },
    {
      "cell_type": "code",
      "metadata": {
        "id": "asqRC-B6Z8IM",
        "colab_type": "code",
        "cellView": "form",
        "colab": {}
      },
      "source": [
        "#@title **The Function `preprocess`**\n",
        "#@markdown Here you can add the created functions to the function `preprocess`\n",
        "\n",
        "def preprocess(data, train_data):\n",
        "  \"\"\"This method will be deployed on data to do the preprocesing\n",
        "\n",
        "   Args:\n",
        "    data (pd.DataFrame): The data on which the preprocessing is applied\n",
        "    train_data (pd.DataFrame): The train data used to train encoders\n",
        "\n",
        "  Returns:\n",
        "    pd.DataFrame: The preprocessed data\n",
        "  \"\"\"\n",
        "  data = clean_column_names(data)\n",
        "  data = weekend(data)\n",
        "  data = split_datetime(data)\n",
        "  data = season_weather_day(data)\n",
        "  data = good_weather(data)\n",
        "  data = good_day(data)\n",
        "  data = drop_col(data)\n",
        "  return data\n",
        "\n",
        "\n",
        "def train_preprocessing(data, target=['casual','registered','count']):\n",
        "  data = preprocess(data,data)\n",
        "  return data.drop(target, axis=1), data[target]"
      ],
      "execution_count": null,
      "outputs": []
    },
    {
      "cell_type": "code",
      "metadata": {
        "id": "_6Eg6U6qsfh7",
        "colab_type": "code",
        "colab": {}
      },
      "source": [
        "X, y = train_preprocessing(train)"
      ],
      "execution_count": null,
      "outputs": []
    },
    {
      "cell_type": "code",
      "metadata": {
        "id": "l-7hyKEXsjSp",
        "colab_type": "code",
        "colab": {}
      },
      "source": [
        "y_casual = y[['casual']]\n",
        "y_registered = y[['registered']]\n",
        "y_count = y[['count']]\n"
      ],
      "execution_count": null,
      "outputs": []
    },
    {
      "cell_type": "code",
      "metadata": {
        "id": "GhP2APhOeOuR",
        "colab_type": "code",
        "cellView": "both",
        "colab": {
          "base_uri": "https://localhost:8080/",
          "height": 256
        },
        "outputId": "dc0bb96f-db80-47d7-ba83-c2a3f54a3e87"
      },
      "source": [
        "model_casual = ExtraTreesRegressor() #@param\n",
        "model_casual.fit(X, y_casual)\n",
        "\n",
        "model_registered = ExtraTreesRegressor() #@param\n",
        "model_registered.fit(X, y_registered)\n",
        "\n",
        "model_count = ExtraTreesRegressor() #@param\n",
        "model_count.fit(X, y_count)\n",
        "#@markdown Output model is stored in the variable `model`"
      ],
      "execution_count": null,
      "outputs": [
        {
          "output_type": "stream",
          "text": [
            "/usr/local/lib/python3.6/dist-packages/ipykernel_launcher.py:2: DataConversionWarning: A column-vector y was passed when a 1d array was expected. Please change the shape of y to (n_samples,), for example using ravel().\n",
            "  \n",
            "/usr/local/lib/python3.6/dist-packages/ipykernel_launcher.py:5: DataConversionWarning: A column-vector y was passed when a 1d array was expected. Please change the shape of y to (n_samples,), for example using ravel().\n",
            "  \"\"\"\n",
            "/usr/local/lib/python3.6/dist-packages/ipykernel_launcher.py:8: DataConversionWarning: A column-vector y was passed when a 1d array was expected. Please change the shape of y to (n_samples,), for example using ravel().\n",
            "  \n"
          ],
          "name": "stderr"
        },
        {
          "output_type": "execute_result",
          "data": {
            "text/plain": [
              "ExtraTreesRegressor(bootstrap=False, ccp_alpha=0.0, criterion='mse',\n",
              "                    max_depth=None, max_features='auto', max_leaf_nodes=None,\n",
              "                    max_samples=None, min_impurity_decrease=0.0,\n",
              "                    min_impurity_split=None, min_samples_leaf=1,\n",
              "                    min_samples_split=2, min_weight_fraction_leaf=0.0,\n",
              "                    n_estimators=100, n_jobs=None, oob_score=False,\n",
              "                    random_state=None, verbose=0, warm_start=False)"
            ]
          },
          "metadata": {
            "tags": []
          },
          "execution_count": 48
        }
      ]
    },
    {
      "cell_type": "code",
      "metadata": {
        "id": "Pip3uouzak_r",
        "colab_type": "code",
        "cellView": "both",
        "colab": {}
      },
      "source": [
        "#@title **Make predictions**\n",
        "#@markdown The predictions are stored in the variable `y_pred`\n",
        "X_pred = preprocess(test, train)\n",
        "y_pred_casual = model_casual.predict(X_pred)\n",
        "y_pred_registered = model_registered.predict(X_pred)\n",
        "y_pred_count = model_count.predict(X_pred)\n",
        "\n"
      ],
      "execution_count": null,
      "outputs": []
    },
    {
      "cell_type": "code",
      "metadata": {
        "id": "cz4-Zk9xuSl2",
        "colab_type": "code",
        "colab": {}
      },
      "source": [
        "y_pred = y_pred_casual+y_pred_registered\n",
        "y_final = pd.DataFrame(y_pred).apply(lambda x : round(x))\n",
        "X_final = test[['datetime']]\n",
        "sub = X_final.join(y_final)\n",
        "sub = sub.rename(columns={0:'count'}) "
      ],
      "execution_count": null,
      "outputs": []
    },
    {
      "cell_type": "code",
      "metadata": {
        "id": "Z4GyOjLxbqQ-",
        "colab_type": "code",
        "cellView": "form",
        "colab": {}
      },
      "source": [
        "#@title **Save predictions**\n",
        "#@markdown Please make sure you create the directory **Predictions** in your **BASE_PATH**\n",
        "time = str(datetime.now())\n",
        "now = time[:16].replace(\" \", \"_\").replace(\"-\",\"_\").replace(\":\",\"h\")\n",
        "#@markdown Enter a filename\n",
        "#@markdown > If you don't choose a filename, the predictions are saved with a timestamp in the directory **Predictions** of your **BASE_PATH**.\n",
        "\n",
        "filename = \"\" #@param {type:\"string\"}\n",
        "if filename == \"\":\n",
        "  filename = f\"{BASE_PATH}/Predictions/predictions_{now}\"\n",
        "sub.to_csv(f\"{filename}.csv\",index=False)"
      ],
      "execution_count": null,
      "outputs": []
    },
    {
      "cell_type": "code",
      "metadata": {
        "id": "rny6-B9WMsyI",
        "colab_type": "code",
        "colab": {}
      },
      "source": [
        ""
      ],
      "execution_count": null,
      "outputs": []
    }
  ]
}